{
 "cells": [
  {
   "cell_type": "code",
   "execution_count": 1,
   "id": "fb49fa97",
   "metadata": {},
   "outputs": [
    {
     "name": "stderr",
     "output_type": "stream",
     "text": [
      "[nltk_data] Downloading package punkt to\n",
      "[nltk_data]     C:\\Users\\nanta\\AppData\\Roaming\\nltk_data...\n",
      "[nltk_data]   Package punkt is already up-to-date!\n"
     ]
    },
    {
     "data": {
      "text/plain": [
       "True"
      ]
     },
     "execution_count": 1,
     "metadata": {},
     "output_type": "execute_result"
    }
   ],
   "source": [
    "import pandas as pd\n",
    "import re\n",
    "\n",
    "from sklearn.feature_extraction.text import CountVectorizer\n",
    "from sklearn.feature_extraction import DictVectorizer\n",
    "\n",
    "from sklearn.linear_model import LogisticRegression\n",
    "from sklearn.metrics import accuracy_score, precision_score, recall_score, f1_score, classification_report\n",
    "from sklearn.model_selection import train_test_split\n",
    "\n",
    "import nltk\n",
    "nltk.download('punkt')"
   ]
  },
  {
   "cell_type": "code",
   "execution_count": 2,
   "id": "6b65002e",
   "metadata": {},
   "outputs": [],
   "source": [
    "df_train = pd.read_csv(\"./Poem_classification - train_data.csv\")\n",
    "df_test = pd.read_csv(\"./Poem_classification - test_data.csv\")"
   ]
  },
  {
   "cell_type": "code",
   "execution_count": 3,
   "id": "9f5fb20f",
   "metadata": {},
   "outputs": [
    {
     "data": {
      "text/html": [
       "<div>\n",
       "<style scoped>\n",
       "    .dataframe tbody tr th:only-of-type {\n",
       "        vertical-align: middle;\n",
       "    }\n",
       "\n",
       "    .dataframe tbody tr th {\n",
       "        vertical-align: top;\n",
       "    }\n",
       "\n",
       "    .dataframe thead th {\n",
       "        text-align: right;\n",
       "    }\n",
       "</style>\n",
       "<table border=\"1\" class=\"dataframe\">\n",
       "  <thead>\n",
       "    <tr style=\"text-align: right;\">\n",
       "      <th></th>\n",
       "      <th>Genre</th>\n",
       "      <th>Poem</th>\n",
       "    </tr>\n",
       "  </thead>\n",
       "  <tbody>\n",
       "    <tr>\n",
       "      <th>0</th>\n",
       "      <td>Music</td>\n",
       "      <td>NaN</td>\n",
       "    </tr>\n",
       "    <tr>\n",
       "      <th>1</th>\n",
       "      <td>Music</td>\n",
       "      <td>In the thick brushthey spend the...</td>\n",
       "    </tr>\n",
       "    <tr>\n",
       "      <th>2</th>\n",
       "      <td>Music</td>\n",
       "      <td>Storms are generous.                       ...</td>\n",
       "    </tr>\n",
       "    <tr>\n",
       "      <th>3</th>\n",
       "      <td>Music</td>\n",
       "      <td>—After Ana Mendieta Did you carry around the ...</td>\n",
       "    </tr>\n",
       "    <tr>\n",
       "      <th>4</th>\n",
       "      <td>Music</td>\n",
       "      <td>for Aja Sherrard at 20The portent may itself ...</td>\n",
       "    </tr>\n",
       "  </tbody>\n",
       "</table>\n",
       "</div>"
      ],
      "text/plain": [
       "   Genre                                               Poem\n",
       "0  Music                                                NaN\n",
       "1  Music                In the thick brushthey spend the...\n",
       "2  Music     Storms are generous.                       ...\n",
       "3  Music   —After Ana Mendieta Did you carry around the ...\n",
       "4  Music   for Aja Sherrard at 20The portent may itself ..."
      ]
     },
     "execution_count": 3,
     "metadata": {},
     "output_type": "execute_result"
    }
   ],
   "source": [
    "df_train.head()"
   ]
  },
  {
   "cell_type": "code",
   "execution_count": 4,
   "id": "99c93905",
   "metadata": {},
   "outputs": [
    {
     "data": {
      "text/plain": [
       "(841, 2)"
      ]
     },
     "execution_count": 4,
     "metadata": {},
     "output_type": "execute_result"
    }
   ],
   "source": [
    "df_train.shape"
   ]
  },
  {
   "cell_type": "code",
   "execution_count": 5,
   "id": "25f724c8",
   "metadata": {},
   "outputs": [
    {
     "name": "stdout",
     "output_type": "stream",
     "text": [
      "<class 'pandas.core.frame.DataFrame'>\n",
      "RangeIndex: 841 entries, 0 to 840\n",
      "Data columns (total 2 columns):\n",
      " #   Column  Non-Null Count  Dtype \n",
      "---  ------  --------------  ----- \n",
      " 0   Genre   841 non-null    object\n",
      " 1   Poem    837 non-null    object\n",
      "dtypes: object(2)\n",
      "memory usage: 13.3+ KB\n"
     ]
    }
   ],
   "source": [
    "df_train.info()"
   ]
  },
  {
   "cell_type": "code",
   "execution_count": 6,
   "id": "607aeb7e",
   "metadata": {},
   "outputs": [
    {
     "data": {
      "text/plain": [
       "Genre    0\n",
       "Poem     4\n",
       "dtype: int64"
      ]
     },
     "execution_count": 6,
     "metadata": {},
     "output_type": "execute_result"
    }
   ],
   "source": [
    "df_train.isnull().sum()"
   ]
  },
  {
   "cell_type": "code",
   "execution_count": 7,
   "id": "e41d832e",
   "metadata": {},
   "outputs": [],
   "source": [
    "df_train = df_train.dropna(axis=0)"
   ]
  },
  {
   "cell_type": "code",
   "execution_count": 8,
   "id": "8ae5dff9",
   "metadata": {},
   "outputs": [
    {
     "data": {
      "text/plain": [
       "Genre    0\n",
       "Poem     0\n",
       "dtype: int64"
      ]
     },
     "execution_count": 8,
     "metadata": {},
     "output_type": "execute_result"
    }
   ],
   "source": [
    "df_train.isnull().sum()"
   ]
  },
  {
   "cell_type": "code",
   "execution_count": 9,
   "id": "7c062336",
   "metadata": {},
   "outputs": [
    {
     "data": {
      "text/plain": [
       "Genre\n",
       "Music          238\n",
       "Death          231\n",
       "Environment    227\n",
       "Affection      141\n",
       "Name: count, dtype: int64"
      ]
     },
     "execution_count": 9,
     "metadata": {},
     "output_type": "execute_result"
    }
   ],
   "source": [
    "df_train.Genre.value_counts()"
   ]
  },
  {
   "cell_type": "code",
   "execution_count": 10,
   "id": "a9c3eacb",
   "metadata": {},
   "outputs": [
    {
     "name": "stderr",
     "output_type": "stream",
     "text": [
      "[nltk_data] Downloading package punkt to\n",
      "[nltk_data]     C:\\Users\\nanta\\AppData\\Roaming\\nltk_data...\n",
      "[nltk_data]   Package punkt is already up-to-date!\n"
     ]
    },
    {
     "data": {
      "text/plain": [
       "True"
      ]
     },
     "execution_count": 10,
     "metadata": {},
     "output_type": "execute_result"
    }
   ],
   "source": [
    "import nltk\n",
    "nltk.download('punkt')"
   ]
  },
  {
   "cell_type": "code",
   "execution_count": 11,
   "id": "04f62abd",
   "metadata": {},
   "outputs": [],
   "source": [
    "def count_text(text):\n",
    "    tokens = nltk.word_tokenize(text)\n",
    "    patt = re.compile(\"[a-zA-Z0-9]+\")\n",
    "    count = 0\n",
    "    for token in tokens:\n",
    "        if patt.match(token):\n",
    "            count +=1\n",
    "    return count"
   ]
  },
  {
   "cell_type": "code",
   "execution_count": 12,
   "id": "7de3359d",
   "metadata": {},
   "outputs": [],
   "source": [
    "df_train[\"length\"] = df_train.Poem.apply(count_text)"
   ]
  },
  {
   "cell_type": "code",
   "execution_count": 13,
   "id": "6fec520a",
   "metadata": {},
   "outputs": [
    {
     "data": {
      "text/html": [
       "<div>\n",
       "<style scoped>\n",
       "    .dataframe tbody tr th:only-of-type {\n",
       "        vertical-align: middle;\n",
       "    }\n",
       "\n",
       "    .dataframe tbody tr th {\n",
       "        vertical-align: top;\n",
       "    }\n",
       "\n",
       "    .dataframe thead th {\n",
       "        text-align: right;\n",
       "    }\n",
       "</style>\n",
       "<table border=\"1\" class=\"dataframe\">\n",
       "  <thead>\n",
       "    <tr style=\"text-align: right;\">\n",
       "      <th></th>\n",
       "      <th>Genre</th>\n",
       "      <th>Poem</th>\n",
       "      <th>length</th>\n",
       "    </tr>\n",
       "  </thead>\n",
       "  <tbody>\n",
       "    <tr>\n",
       "      <th>1</th>\n",
       "      <td>Music</td>\n",
       "      <td>In the thick brushthey spend the...</td>\n",
       "      <td>26</td>\n",
       "    </tr>\n",
       "    <tr>\n",
       "      <th>2</th>\n",
       "      <td>Music</td>\n",
       "      <td>Storms are generous.                       ...</td>\n",
       "      <td>26</td>\n",
       "    </tr>\n",
       "    <tr>\n",
       "      <th>3</th>\n",
       "      <td>Music</td>\n",
       "      <td>—After Ana Mendieta Did you carry around the ...</td>\n",
       "      <td>40</td>\n",
       "    </tr>\n",
       "    <tr>\n",
       "      <th>4</th>\n",
       "      <td>Music</td>\n",
       "      <td>for Aja Sherrard at 20The portent may itself ...</td>\n",
       "      <td>36</td>\n",
       "    </tr>\n",
       "    <tr>\n",
       "      <th>5</th>\n",
       "      <td>Music</td>\n",
       "      <td>for Bob Marley, Bavaria, November 1980 Here i...</td>\n",
       "      <td>37</td>\n",
       "    </tr>\n",
       "  </tbody>\n",
       "</table>\n",
       "</div>"
      ],
      "text/plain": [
       "   Genre                                               Poem  length\n",
       "1  Music                In the thick brushthey spend the...      26\n",
       "2  Music     Storms are generous.                       ...      26\n",
       "3  Music   —After Ana Mendieta Did you carry around the ...      40\n",
       "4  Music   for Aja Sherrard at 20The portent may itself ...      36\n",
       "5  Music   for Bob Marley, Bavaria, November 1980 Here i...      37"
      ]
     },
     "execution_count": 13,
     "metadata": {},
     "output_type": "execute_result"
    }
   ],
   "source": [
    "df_train.head()"
   ]
  },
  {
   "cell_type": "code",
   "execution_count": 14,
   "id": "a5524b0d",
   "metadata": {},
   "outputs": [
    {
     "data": {
      "text/plain": [
       "['In',\n",
       " 'the',\n",
       " 'thick',\n",
       " 'brushthey',\n",
       " 'spend',\n",
       " 'the',\n",
       " 'hottest',\n",
       " 'part',\n",
       " 'of',\n",
       " 'the',\n",
       " 'day',\n",
       " ',',\n",
       " 'soaking',\n",
       " 'their',\n",
       " 'hoovesin',\n",
       " 'the',\n",
       " 'trickle',\n",
       " 'of',\n",
       " 'mountain',\n",
       " 'water',\n",
       " 'the',\n",
       " 'ravine',\n",
       " 'hoardson',\n",
       " 'behalf',\n",
       " 'of',\n",
       " 'the',\n",
       " 'oleander',\n",
       " '.']"
      ]
     },
     "execution_count": 14,
     "metadata": {},
     "output_type": "execute_result"
    }
   ],
   "source": [
    "nltk.word_tokenize(df_train[\"Poem\"][1])"
   ]
  },
  {
   "cell_type": "code",
   "execution_count": 15,
   "id": "fa8efb03",
   "metadata": {},
   "outputs": [
    {
     "data": {
      "text/plain": [
       "count    837.000000\n",
       "mean      47.861410\n",
       "std       12.887808\n",
       "min        3.000000\n",
       "25%       44.000000\n",
       "50%       52.000000\n",
       "75%       56.000000\n",
       "max       70.000000\n",
       "Name: length, dtype: float64"
      ]
     },
     "execution_count": 15,
     "metadata": {},
     "output_type": "execute_result"
    }
   ],
   "source": [
    "df_train.length.describe()"
   ]
  },
  {
   "cell_type": "code",
   "execution_count": 16,
   "id": "946fe4f4",
   "metadata": {},
   "outputs": [],
   "source": [
    "def tokenizer_text(text):\n",
    "    tokens = nltk.word_tokenize(text)\n",
    "    patt = re.compile(\"[a-zA-Z0-9]+\")\n",
    "    token = [x for x in tokens if patt.match(x)]\n",
    "    return \"|\".join(token)\n",
    "    "
   ]
  },
  {
   "cell_type": "code",
   "execution_count": 17,
   "id": "fa6cf1d7",
   "metadata": {},
   "outputs": [
    {
     "data": {
      "text/plain": [
       "'I|love|to|play|football'"
      ]
     },
     "execution_count": 17,
     "metadata": {},
     "output_type": "execute_result"
    }
   ],
   "source": [
    "tokenizer_text(\"I love to play football\")"
   ]
  },
  {
   "cell_type": "code",
   "execution_count": 18,
   "id": "655d9ca4",
   "metadata": {},
   "outputs": [
    {
     "data": {
      "text/html": [
       "<div>\n",
       "<style scoped>\n",
       "    .dataframe tbody tr th:only-of-type {\n",
       "        vertical-align: middle;\n",
       "    }\n",
       "\n",
       "    .dataframe tbody tr th {\n",
       "        vertical-align: top;\n",
       "    }\n",
       "\n",
       "    .dataframe thead th {\n",
       "        text-align: right;\n",
       "    }\n",
       "</style>\n",
       "<table border=\"1\" class=\"dataframe\">\n",
       "  <thead>\n",
       "    <tr style=\"text-align: right;\">\n",
       "      <th></th>\n",
       "      <th>Genre</th>\n",
       "      <th>Poem</th>\n",
       "      <th>length</th>\n",
       "      <th>tokens</th>\n",
       "    </tr>\n",
       "  </thead>\n",
       "  <tbody>\n",
       "    <tr>\n",
       "      <th>1</th>\n",
       "      <td>Music</td>\n",
       "      <td>In the thick brushthey spend the...</td>\n",
       "      <td>26</td>\n",
       "      <td>In|the|thick|brushthey|spend|the|hottest|part|...</td>\n",
       "    </tr>\n",
       "    <tr>\n",
       "      <th>2</th>\n",
       "      <td>Music</td>\n",
       "      <td>Storms are generous.                       ...</td>\n",
       "      <td>26</td>\n",
       "      <td>Storms|are|generous|Something|so|easy|to|surre...</td>\n",
       "    </tr>\n",
       "    <tr>\n",
       "      <th>3</th>\n",
       "      <td>Music</td>\n",
       "      <td>—After Ana Mendieta Did you carry around the ...</td>\n",
       "      <td>40</td>\n",
       "      <td>Ana|Mendieta|Did|you|carry|around|the|matin|st...</td>\n",
       "    </tr>\n",
       "    <tr>\n",
       "      <th>4</th>\n",
       "      <td>Music</td>\n",
       "      <td>for Aja Sherrard at 20The portent may itself ...</td>\n",
       "      <td>36</td>\n",
       "      <td>for|Aja|Sherrard|at|20The|portent|may|itself|b...</td>\n",
       "    </tr>\n",
       "    <tr>\n",
       "      <th>5</th>\n",
       "      <td>Music</td>\n",
       "      <td>for Bob Marley, Bavaria, November 1980 Here i...</td>\n",
       "      <td>37</td>\n",
       "      <td>for|Bob|Marley|Bavaria|November|1980|Here|is|t...</td>\n",
       "    </tr>\n",
       "  </tbody>\n",
       "</table>\n",
       "</div>"
      ],
      "text/plain": [
       "   Genre                                               Poem  length  \\\n",
       "1  Music                In the thick brushthey spend the...      26   \n",
       "2  Music     Storms are generous.                       ...      26   \n",
       "3  Music   —After Ana Mendieta Did you carry around the ...      40   \n",
       "4  Music   for Aja Sherrard at 20The portent may itself ...      36   \n",
       "5  Music   for Bob Marley, Bavaria, November 1980 Here i...      37   \n",
       "\n",
       "                                              tokens  \n",
       "1  In|the|thick|brushthey|spend|the|hottest|part|...  \n",
       "2  Storms|are|generous|Something|so|easy|to|surre...  \n",
       "3  Ana|Mendieta|Did|you|carry|around|the|matin|st...  \n",
       "4  for|Aja|Sherrard|at|20The|portent|may|itself|b...  \n",
       "5  for|Bob|Marley|Bavaria|November|1980|Here|is|t...  "
      ]
     },
     "execution_count": 18,
     "metadata": {},
     "output_type": "execute_result"
    }
   ],
   "source": [
    "df_train[\"tokens\"] = df_train[\"Poem\"].apply(tokenizer_text)\n",
    "df_train.head()"
   ]
  },
  {
   "cell_type": "code",
   "execution_count": 19,
   "id": "872a3245",
   "metadata": {},
   "outputs": [],
   "source": [
    "df_train_last = df_train[[\"Genre\", \"tokens\"]]"
   ]
  },
  {
   "cell_type": "code",
   "execution_count": 20,
   "id": "0a106967",
   "metadata": {},
   "outputs": [
    {
     "data": {
      "text/html": [
       "<div>\n",
       "<style scoped>\n",
       "    .dataframe tbody tr th:only-of-type {\n",
       "        vertical-align: middle;\n",
       "    }\n",
       "\n",
       "    .dataframe tbody tr th {\n",
       "        vertical-align: top;\n",
       "    }\n",
       "\n",
       "    .dataframe thead th {\n",
       "        text-align: right;\n",
       "    }\n",
       "</style>\n",
       "<table border=\"1\" class=\"dataframe\">\n",
       "  <thead>\n",
       "    <tr style=\"text-align: right;\">\n",
       "      <th></th>\n",
       "      <th>Genre</th>\n",
       "      <th>tokens</th>\n",
       "    </tr>\n",
       "  </thead>\n",
       "  <tbody>\n",
       "    <tr>\n",
       "      <th>1</th>\n",
       "      <td>Music</td>\n",
       "      <td>In|the|thick|brushthey|spend|the|hottest|part|...</td>\n",
       "    </tr>\n",
       "    <tr>\n",
       "      <th>2</th>\n",
       "      <td>Music</td>\n",
       "      <td>Storms|are|generous|Something|so|easy|to|surre...</td>\n",
       "    </tr>\n",
       "    <tr>\n",
       "      <th>3</th>\n",
       "      <td>Music</td>\n",
       "      <td>Ana|Mendieta|Did|you|carry|around|the|matin|st...</td>\n",
       "    </tr>\n",
       "    <tr>\n",
       "      <th>4</th>\n",
       "      <td>Music</td>\n",
       "      <td>for|Aja|Sherrard|at|20The|portent|may|itself|b...</td>\n",
       "    </tr>\n",
       "    <tr>\n",
       "      <th>5</th>\n",
       "      <td>Music</td>\n",
       "      <td>for|Bob|Marley|Bavaria|November|1980|Here|is|t...</td>\n",
       "    </tr>\n",
       "    <tr>\n",
       "      <th>...</th>\n",
       "      <td>...</td>\n",
       "      <td>...</td>\n",
       "    </tr>\n",
       "    <tr>\n",
       "      <th>836</th>\n",
       "      <td>Environment</td>\n",
       "      <td>Why|make|so|much|of|fragmentary|blue|In|here|a...</td>\n",
       "    </tr>\n",
       "    <tr>\n",
       "      <th>837</th>\n",
       "      <td>Environment</td>\n",
       "      <td>Woman|I|wish|I|did|n't|know|your|name|What|cou...</td>\n",
       "    </tr>\n",
       "    <tr>\n",
       "      <th>838</th>\n",
       "      <td>Environment</td>\n",
       "      <td>Yonder|to|the|kiosk|beside|the|creek|Paddle|th...</td>\n",
       "    </tr>\n",
       "    <tr>\n",
       "      <th>839</th>\n",
       "      <td>Environment</td>\n",
       "      <td>You|come|to|fetch|me|from|my|work|to-night|Whe...</td>\n",
       "    </tr>\n",
       "    <tr>\n",
       "      <th>840</th>\n",
       "      <td>Environment</td>\n",
       "      <td>You|see|them|through|water|and|glass|both|liqu...</td>\n",
       "    </tr>\n",
       "  </tbody>\n",
       "</table>\n",
       "<p>837 rows × 2 columns</p>\n",
       "</div>"
      ],
      "text/plain": [
       "           Genre                                             tokens\n",
       "1          Music  In|the|thick|brushthey|spend|the|hottest|part|...\n",
       "2          Music  Storms|are|generous|Something|so|easy|to|surre...\n",
       "3          Music  Ana|Mendieta|Did|you|carry|around|the|matin|st...\n",
       "4          Music  for|Aja|Sherrard|at|20The|portent|may|itself|b...\n",
       "5          Music  for|Bob|Marley|Bavaria|November|1980|Here|is|t...\n",
       "..           ...                                                ...\n",
       "836  Environment  Why|make|so|much|of|fragmentary|blue|In|here|a...\n",
       "837  Environment  Woman|I|wish|I|did|n't|know|your|name|What|cou...\n",
       "838  Environment  Yonder|to|the|kiosk|beside|the|creek|Paddle|th...\n",
       "839  Environment  You|come|to|fetch|me|from|my|work|to-night|Whe...\n",
       "840  Environment  You|see|them|through|water|and|glass|both|liqu...\n",
       "\n",
       "[837 rows x 2 columns]"
      ]
     },
     "execution_count": 20,
     "metadata": {},
     "output_type": "execute_result"
    }
   ],
   "source": [
    "df_train_last"
   ]
  },
  {
   "cell_type": "markdown",
   "id": "3a6deb09",
   "metadata": {},
   "source": [
    "# Using CountVectorizer"
   ]
  },
  {
   "cell_type": "code",
   "execution_count": 21,
   "id": "b82fd0ef",
   "metadata": {},
   "outputs": [],
   "source": [
    "# Count Vectorizer\n",
    "vectorizer = CountVectorizer()\n",
    "text_feature = vectorizer.fit_transform(df_train[\"Poem\"])"
   ]
  },
  {
   "cell_type": "code",
   "execution_count": 22,
   "id": "71a409cc",
   "metadata": {},
   "outputs": [
    {
     "data": {
      "text/plain": [
       "Genre\n",
       "Music          0.284349\n",
       "Death          0.275986\n",
       "Environment    0.271207\n",
       "Affection      0.168459\n",
       "Name: proportion, dtype: float64"
      ]
     },
     "execution_count": 22,
     "metadata": {},
     "output_type": "execute_result"
    }
   ],
   "source": [
    "df_train[\"Genre\"].value_counts(normalize=True)"
   ]
  },
  {
   "cell_type": "code",
   "execution_count": 23,
   "id": "b6c45ab9",
   "metadata": {},
   "outputs": [],
   "source": [
    "X_train, X_test, y_train, y_test = train_test_split(text_feature, df_train[\"Genre\"], random_state=0, test_size=0.2)"
   ]
  },
  {
   "cell_type": "code",
   "execution_count": 24,
   "id": "2a559512",
   "metadata": {},
   "outputs": [],
   "source": [
    "X_tr, X_val, y_tr, y_val = train_test_split(X_train, y_train, random_state=0, test_size=0.2)"
   ]
  },
  {
   "cell_type": "code",
   "execution_count": 25,
   "id": "6277c526",
   "metadata": {},
   "outputs": [],
   "source": [
    "lr = LogisticRegression(multi_class=\"multinomial\", max_iter=1000)"
   ]
  },
  {
   "cell_type": "code",
   "execution_count": 26,
   "id": "32fec3da",
   "metadata": {},
   "outputs": [
    {
     "data": {
      "text/html": [
       "<style>#sk-container-id-1 {color: black;}#sk-container-id-1 pre{padding: 0;}#sk-container-id-1 div.sk-toggleable {background-color: white;}#sk-container-id-1 label.sk-toggleable__label {cursor: pointer;display: block;width: 100%;margin-bottom: 0;padding: 0.3em;box-sizing: border-box;text-align: center;}#sk-container-id-1 label.sk-toggleable__label-arrow:before {content: \"▸\";float: left;margin-right: 0.25em;color: #696969;}#sk-container-id-1 label.sk-toggleable__label-arrow:hover:before {color: black;}#sk-container-id-1 div.sk-estimator:hover label.sk-toggleable__label-arrow:before {color: black;}#sk-container-id-1 div.sk-toggleable__content {max-height: 0;max-width: 0;overflow: hidden;text-align: left;background-color: #f0f8ff;}#sk-container-id-1 div.sk-toggleable__content pre {margin: 0.2em;color: black;border-radius: 0.25em;background-color: #f0f8ff;}#sk-container-id-1 input.sk-toggleable__control:checked~div.sk-toggleable__content {max-height: 200px;max-width: 100%;overflow: auto;}#sk-container-id-1 input.sk-toggleable__control:checked~label.sk-toggleable__label-arrow:before {content: \"▾\";}#sk-container-id-1 div.sk-estimator input.sk-toggleable__control:checked~label.sk-toggleable__label {background-color: #d4ebff;}#sk-container-id-1 div.sk-label input.sk-toggleable__control:checked~label.sk-toggleable__label {background-color: #d4ebff;}#sk-container-id-1 input.sk-hidden--visually {border: 0;clip: rect(1px 1px 1px 1px);clip: rect(1px, 1px, 1px, 1px);height: 1px;margin: -1px;overflow: hidden;padding: 0;position: absolute;width: 1px;}#sk-container-id-1 div.sk-estimator {font-family: monospace;background-color: #f0f8ff;border: 1px dotted black;border-radius: 0.25em;box-sizing: border-box;margin-bottom: 0.5em;}#sk-container-id-1 div.sk-estimator:hover {background-color: #d4ebff;}#sk-container-id-1 div.sk-parallel-item::after {content: \"\";width: 100%;border-bottom: 1px solid gray;flex-grow: 1;}#sk-container-id-1 div.sk-label:hover label.sk-toggleable__label {background-color: #d4ebff;}#sk-container-id-1 div.sk-serial::before {content: \"\";position: absolute;border-left: 1px solid gray;box-sizing: border-box;top: 0;bottom: 0;left: 50%;z-index: 0;}#sk-container-id-1 div.sk-serial {display: flex;flex-direction: column;align-items: center;background-color: white;padding-right: 0.2em;padding-left: 0.2em;position: relative;}#sk-container-id-1 div.sk-item {position: relative;z-index: 1;}#sk-container-id-1 div.sk-parallel {display: flex;align-items: stretch;justify-content: center;background-color: white;position: relative;}#sk-container-id-1 div.sk-item::before, #sk-container-id-1 div.sk-parallel-item::before {content: \"\";position: absolute;border-left: 1px solid gray;box-sizing: border-box;top: 0;bottom: 0;left: 50%;z-index: -1;}#sk-container-id-1 div.sk-parallel-item {display: flex;flex-direction: column;z-index: 1;position: relative;background-color: white;}#sk-container-id-1 div.sk-parallel-item:first-child::after {align-self: flex-end;width: 50%;}#sk-container-id-1 div.sk-parallel-item:last-child::after {align-self: flex-start;width: 50%;}#sk-container-id-1 div.sk-parallel-item:only-child::after {width: 0;}#sk-container-id-1 div.sk-dashed-wrapped {border: 1px dashed gray;margin: 0 0.4em 0.5em 0.4em;box-sizing: border-box;padding-bottom: 0.4em;background-color: white;}#sk-container-id-1 div.sk-label label {font-family: monospace;font-weight: bold;display: inline-block;line-height: 1.2em;}#sk-container-id-1 div.sk-label-container {text-align: center;}#sk-container-id-1 div.sk-container {/* jupyter's `normalize.less` sets `[hidden] { display: none; }` but bootstrap.min.css set `[hidden] { display: none !important; }` so we also need the `!important` here to be able to override the default hidden behavior on the sphinx rendered scikit-learn.org. See: https://github.com/scikit-learn/scikit-learn/issues/21755 */display: inline-block !important;position: relative;}#sk-container-id-1 div.sk-text-repr-fallback {display: none;}</style><div id=\"sk-container-id-1\" class=\"sk-top-container\"><div class=\"sk-text-repr-fallback\"><pre>LogisticRegression(max_iter=1000, multi_class=&#x27;multinomial&#x27;)</pre><b>In a Jupyter environment, please rerun this cell to show the HTML representation or trust the notebook. <br />On GitHub, the HTML representation is unable to render, please try loading this page with nbviewer.org.</b></div><div class=\"sk-container\" hidden><div class=\"sk-item\"><div class=\"sk-estimator sk-toggleable\"><input class=\"sk-toggleable__control sk-hidden--visually\" id=\"sk-estimator-id-1\" type=\"checkbox\" checked><label for=\"sk-estimator-id-1\" class=\"sk-toggleable__label sk-toggleable__label-arrow\">LogisticRegression</label><div class=\"sk-toggleable__content\"><pre>LogisticRegression(max_iter=1000, multi_class=&#x27;multinomial&#x27;)</pre></div></div></div></div></div>"
      ],
      "text/plain": [
       "LogisticRegression(max_iter=1000, multi_class='multinomial')"
      ]
     },
     "execution_count": 26,
     "metadata": {},
     "output_type": "execute_result"
    }
   ],
   "source": [
    "lr.fit(X_tr, y_tr)"
   ]
  },
  {
   "cell_type": "code",
   "execution_count": 27,
   "id": "86fe746c",
   "metadata": {},
   "outputs": [],
   "source": [
    "model_predicted = lr.predict(X_val)"
   ]
  },
  {
   "cell_type": "code",
   "execution_count": 28,
   "id": "697f1610",
   "metadata": {},
   "outputs": [
    {
     "name": "stdout",
     "output_type": "stream",
     "text": [
      "              precision    recall  f1-score   support\n",
      "\n",
      "   Affection       0.38      0.42      0.40        19\n",
      "       Death       0.32      0.39      0.35        28\n",
      " Environment       0.53      0.50      0.51        42\n",
      "       Music       0.49      0.42      0.45        45\n",
      "\n",
      "    accuracy                           0.44       134\n",
      "   macro avg       0.43      0.43      0.43       134\n",
      "weighted avg       0.45      0.44      0.44       134\n",
      "\n"
     ]
    }
   ],
   "source": [
    "print(classification_report(model_predicted, y_val))"
   ]
  },
  {
   "cell_type": "code",
   "execution_count": 29,
   "id": "44774d70",
   "metadata": {},
   "outputs": [],
   "source": [
    "weight = pd.DataFrame(lr.coef_, columns=vectorizer.get_feature_names_out(), index=lr.classes_)"
   ]
  },
  {
   "cell_type": "code",
   "execution_count": 30,
   "id": "20817a56",
   "metadata": {},
   "outputs": [
    {
     "data": {
      "text/html": [
       "<div>\n",
       "<style scoped>\n",
       "    .dataframe tbody tr th:only-of-type {\n",
       "        vertical-align: middle;\n",
       "    }\n",
       "\n",
       "    .dataframe tbody tr th {\n",
       "        vertical-align: top;\n",
       "    }\n",
       "\n",
       "    .dataframe thead th {\n",
       "        text-align: right;\n",
       "    }\n",
       "</style>\n",
       "<table border=\"1\" class=\"dataframe\">\n",
       "  <thead>\n",
       "    <tr style=\"text-align: right;\">\n",
       "      <th></th>\n",
       "      <th>00</th>\n",
       "      <th>000</th>\n",
       "      <th>10maggie</th>\n",
       "      <th>12</th>\n",
       "      <th>13</th>\n",
       "      <th>15</th>\n",
       "      <th>17</th>\n",
       "      <th>1865there</th>\n",
       "      <th>1908</th>\n",
       "      <th>1913</th>\n",
       "      <th>...</th>\n",
       "      <th>zenith</th>\n",
       "      <th>zephyrs</th>\n",
       "      <th>zest</th>\n",
       "      <th>zhashagiwag</th>\n",
       "      <th>zhingwaakwag</th>\n",
       "      <th>zipperedshut</th>\n",
       "      <th>zither</th>\n",
       "      <th>zithers</th>\n",
       "      <th>zoom</th>\n",
       "      <th>ȟe</th>\n",
       "    </tr>\n",
       "  </thead>\n",
       "  <tbody>\n",
       "    <tr>\n",
       "      <th>Affection</th>\n",
       "      <td>0.0</td>\n",
       "      <td>-0.029458</td>\n",
       "      <td>-0.028811</td>\n",
       "      <td>0.0</td>\n",
       "      <td>-0.014899</td>\n",
       "      <td>-0.027415</td>\n",
       "      <td>-0.027415</td>\n",
       "      <td>0.0</td>\n",
       "      <td>-0.029913</td>\n",
       "      <td>-0.013307</td>\n",
       "      <td>...</td>\n",
       "      <td>0.0</td>\n",
       "      <td>0.0</td>\n",
       "      <td>0.000386</td>\n",
       "      <td>-0.007504</td>\n",
       "      <td>-0.007504</td>\n",
       "      <td>-0.008301</td>\n",
       "      <td>-0.019078</td>\n",
       "      <td>0.109487</td>\n",
       "      <td>0.0</td>\n",
       "      <td>-0.030173</td>\n",
       "    </tr>\n",
       "    <tr>\n",
       "      <th>Death</th>\n",
       "      <td>0.0</td>\n",
       "      <td>0.021294</td>\n",
       "      <td>-0.041012</td>\n",
       "      <td>0.0</td>\n",
       "      <td>0.044497</td>\n",
       "      <td>-0.029181</td>\n",
       "      <td>-0.029181</td>\n",
       "      <td>0.0</td>\n",
       "      <td>-0.037152</td>\n",
       "      <td>0.265808</td>\n",
       "      <td>...</td>\n",
       "      <td>0.0</td>\n",
       "      <td>0.0</td>\n",
       "      <td>-0.000087</td>\n",
       "      <td>-0.016690</td>\n",
       "      <td>-0.016690</td>\n",
       "      <td>0.046234</td>\n",
       "      <td>-0.031246</td>\n",
       "      <td>-0.052556</td>\n",
       "      <td>0.0</td>\n",
       "      <td>-0.027047</td>\n",
       "    </tr>\n",
       "    <tr>\n",
       "      <th>Environment</th>\n",
       "      <td>0.0</td>\n",
       "      <td>-0.033395</td>\n",
       "      <td>0.086605</td>\n",
       "      <td>0.0</td>\n",
       "      <td>-0.013744</td>\n",
       "      <td>-0.013348</td>\n",
       "      <td>-0.013348</td>\n",
       "      <td>0.0</td>\n",
       "      <td>-0.032700</td>\n",
       "      <td>-0.108993</td>\n",
       "      <td>...</td>\n",
       "      <td>0.0</td>\n",
       "      <td>0.0</td>\n",
       "      <td>-0.000159</td>\n",
       "      <td>0.037926</td>\n",
       "      <td>0.037926</td>\n",
       "      <td>-0.000802</td>\n",
       "      <td>-0.046615</td>\n",
       "      <td>-0.011131</td>\n",
       "      <td>0.0</td>\n",
       "      <td>0.120179</td>\n",
       "    </tr>\n",
       "    <tr>\n",
       "      <th>Music</th>\n",
       "      <td>0.0</td>\n",
       "      <td>0.041559</td>\n",
       "      <td>-0.016781</td>\n",
       "      <td>0.0</td>\n",
       "      <td>-0.015855</td>\n",
       "      <td>0.069944</td>\n",
       "      <td>0.069944</td>\n",
       "      <td>0.0</td>\n",
       "      <td>0.099764</td>\n",
       "      <td>-0.143509</td>\n",
       "      <td>...</td>\n",
       "      <td>0.0</td>\n",
       "      <td>0.0</td>\n",
       "      <td>-0.000140</td>\n",
       "      <td>-0.013732</td>\n",
       "      <td>-0.013732</td>\n",
       "      <td>-0.037130</td>\n",
       "      <td>0.096940</td>\n",
       "      <td>-0.045800</td>\n",
       "      <td>0.0</td>\n",
       "      <td>-0.062959</td>\n",
       "    </tr>\n",
       "  </tbody>\n",
       "</table>\n",
       "<p>4 rows × 8437 columns</p>\n",
       "</div>"
      ],
      "text/plain": [
       "              00       000  10maggie   12        13        15        17  \\\n",
       "Affection    0.0 -0.029458 -0.028811  0.0 -0.014899 -0.027415 -0.027415   \n",
       "Death        0.0  0.021294 -0.041012  0.0  0.044497 -0.029181 -0.029181   \n",
       "Environment  0.0 -0.033395  0.086605  0.0 -0.013744 -0.013348 -0.013348   \n",
       "Music        0.0  0.041559 -0.016781  0.0 -0.015855  0.069944  0.069944   \n",
       "\n",
       "             1865there      1908      1913  ...  zenith  zephyrs      zest  \\\n",
       "Affection          0.0 -0.029913 -0.013307  ...     0.0      0.0  0.000386   \n",
       "Death              0.0 -0.037152  0.265808  ...     0.0      0.0 -0.000087   \n",
       "Environment        0.0 -0.032700 -0.108993  ...     0.0      0.0 -0.000159   \n",
       "Music              0.0  0.099764 -0.143509  ...     0.0      0.0 -0.000140   \n",
       "\n",
       "             zhashagiwag  zhingwaakwag  zipperedshut    zither   zithers  \\\n",
       "Affection      -0.007504     -0.007504     -0.008301 -0.019078  0.109487   \n",
       "Death          -0.016690     -0.016690      0.046234 -0.031246 -0.052556   \n",
       "Environment     0.037926      0.037926     -0.000802 -0.046615 -0.011131   \n",
       "Music          -0.013732     -0.013732     -0.037130  0.096940 -0.045800   \n",
       "\n",
       "             zoom        ȟe  \n",
       "Affection     0.0 -0.030173  \n",
       "Death         0.0 -0.027047  \n",
       "Environment   0.0  0.120179  \n",
       "Music         0.0 -0.062959  \n",
       "\n",
       "[4 rows x 8437 columns]"
      ]
     },
     "execution_count": 30,
     "metadata": {},
     "output_type": "execute_result"
    }
   ],
   "source": [
    "weight"
   ]
  },
  {
   "cell_type": "code",
   "execution_count": 31,
   "id": "fd707550",
   "metadata": {
    "scrolled": true
   },
   "outputs": [
    {
     "data": {
      "text/plain": [
       "(4, 8437)"
      ]
     },
     "execution_count": 31,
     "metadata": {},
     "output_type": "execute_result"
    }
   ],
   "source": [
    "weight.shape"
   ]
  },
  {
   "cell_type": "code",
   "execution_count": 32,
   "id": "27076b54",
   "metadata": {},
   "outputs": [
    {
     "data": {
      "text/html": [
       "<div>\n",
       "<style scoped>\n",
       "    .dataframe tbody tr th:only-of-type {\n",
       "        vertical-align: middle;\n",
       "    }\n",
       "\n",
       "    .dataframe tbody tr th {\n",
       "        vertical-align: top;\n",
       "    }\n",
       "\n",
       "    .dataframe thead th {\n",
       "        text-align: right;\n",
       "    }\n",
       "</style>\n",
       "<table border=\"1\" class=\"dataframe\">\n",
       "  <thead>\n",
       "    <tr style=\"text-align: right;\">\n",
       "      <th></th>\n",
       "      <th>Affection</th>\n",
       "      <th>Death</th>\n",
       "      <th>Environment</th>\n",
       "      <th>Music</th>\n",
       "    </tr>\n",
       "  </thead>\n",
       "  <tbody>\n",
       "    <tr>\n",
       "      <th>makes</th>\n",
       "      <td>-0.251332</td>\n",
       "      <td>-0.113942</td>\n",
       "      <td>-0.090153</td>\n",
       "      <td>0.455427</td>\n",
       "    </tr>\n",
       "    <tr>\n",
       "      <th>loyalty</th>\n",
       "      <td>-0.053721</td>\n",
       "      <td>-0.153104</td>\n",
       "      <td>-0.225895</td>\n",
       "      <td>0.432720</td>\n",
       "    </tr>\n",
       "    <tr>\n",
       "      <th>into</th>\n",
       "      <td>-0.308451</td>\n",
       "      <td>0.009108</td>\n",
       "      <td>-0.102271</td>\n",
       "      <td>0.401614</td>\n",
       "    </tr>\n",
       "    <tr>\n",
       "      <th>next</th>\n",
       "      <td>-0.141189</td>\n",
       "      <td>-0.103317</td>\n",
       "      <td>-0.155492</td>\n",
       "      <td>0.399998</td>\n",
       "    </tr>\n",
       "    <tr>\n",
       "      <th>take</th>\n",
       "      <td>-0.027884</td>\n",
       "      <td>-0.127450</td>\n",
       "      <td>-0.229368</td>\n",
       "      <td>0.384703</td>\n",
       "    </tr>\n",
       "    <tr>\n",
       "      <th>...</th>\n",
       "      <td>...</td>\n",
       "      <td>...</td>\n",
       "      <td>...</td>\n",
       "      <td>...</td>\n",
       "    </tr>\n",
       "    <tr>\n",
       "      <th>rain</th>\n",
       "      <td>0.133497</td>\n",
       "      <td>-0.177772</td>\n",
       "      <td>0.416806</td>\n",
       "      <td>-0.372530</td>\n",
       "    </tr>\n",
       "    <tr>\n",
       "      <th>by</th>\n",
       "      <td>0.296442</td>\n",
       "      <td>0.042514</td>\n",
       "      <td>0.039719</td>\n",
       "      <td>-0.378675</td>\n",
       "    </tr>\n",
       "    <tr>\n",
       "      <th>there</th>\n",
       "      <td>0.057733</td>\n",
       "      <td>0.514168</td>\n",
       "      <td>-0.165964</td>\n",
       "      <td>-0.405937</td>\n",
       "    </tr>\n",
       "    <tr>\n",
       "      <th>long</th>\n",
       "      <td>0.037966</td>\n",
       "      <td>0.021892</td>\n",
       "      <td>0.348202</td>\n",
       "      <td>-0.408060</td>\n",
       "    </tr>\n",
       "    <tr>\n",
       "      <th>she</th>\n",
       "      <td>0.230600</td>\n",
       "      <td>0.214681</td>\n",
       "      <td>-0.025819</td>\n",
       "      <td>-0.419462</td>\n",
       "    </tr>\n",
       "  </tbody>\n",
       "</table>\n",
       "<p>8437 rows × 4 columns</p>\n",
       "</div>"
      ],
      "text/plain": [
       "         Affection     Death  Environment     Music\n",
       "makes    -0.251332 -0.113942    -0.090153  0.455427\n",
       "loyalty  -0.053721 -0.153104    -0.225895  0.432720\n",
       "into     -0.308451  0.009108    -0.102271  0.401614\n",
       "next     -0.141189 -0.103317    -0.155492  0.399998\n",
       "take     -0.027884 -0.127450    -0.229368  0.384703\n",
       "...            ...       ...          ...       ...\n",
       "rain      0.133497 -0.177772     0.416806 -0.372530\n",
       "by        0.296442  0.042514     0.039719 -0.378675\n",
       "there     0.057733  0.514168    -0.165964 -0.405937\n",
       "long      0.037966  0.021892     0.348202 -0.408060\n",
       "she       0.230600  0.214681    -0.025819 -0.419462\n",
       "\n",
       "[8437 rows x 4 columns]"
      ]
     },
     "execution_count": 32,
     "metadata": {},
     "output_type": "execute_result"
    }
   ],
   "source": [
    "weight.transpose().sort_values(\"Music\", ascending=False)"
   ]
  },
  {
   "cell_type": "code",
   "execution_count": 33,
   "id": "ee30248e",
   "metadata": {},
   "outputs": [
    {
     "data": {
      "text/html": [
       "<div>\n",
       "<style scoped>\n",
       "    .dataframe tbody tr th:only-of-type {\n",
       "        vertical-align: middle;\n",
       "    }\n",
       "\n",
       "    .dataframe tbody tr th {\n",
       "        vertical-align: top;\n",
       "    }\n",
       "\n",
       "    .dataframe thead th {\n",
       "        text-align: right;\n",
       "    }\n",
       "</style>\n",
       "<table border=\"1\" class=\"dataframe\">\n",
       "  <thead>\n",
       "    <tr style=\"text-align: right;\">\n",
       "      <th></th>\n",
       "      <th>Affection</th>\n",
       "      <th>Death</th>\n",
       "      <th>Environment</th>\n",
       "      <th>Music</th>\n",
       "    </tr>\n",
       "  </thead>\n",
       "  <tbody>\n",
       "    <tr>\n",
       "      <th>love</th>\n",
       "      <td>0.735769</td>\n",
       "      <td>-0.430292</td>\n",
       "      <td>-0.242356</td>\n",
       "      <td>-0.063121</td>\n",
       "    </tr>\n",
       "    <tr>\n",
       "      <th>that</th>\n",
       "      <td>0.547368</td>\n",
       "      <td>-0.245017</td>\n",
       "      <td>-0.169037</td>\n",
       "      <td>-0.133315</td>\n",
       "    </tr>\n",
       "    <tr>\n",
       "      <th>thou</th>\n",
       "      <td>0.435137</td>\n",
       "      <td>0.033752</td>\n",
       "      <td>-0.117813</td>\n",
       "      <td>-0.351076</td>\n",
       "    </tr>\n",
       "    <tr>\n",
       "      <th>thee</th>\n",
       "      <td>0.432589</td>\n",
       "      <td>-0.062716</td>\n",
       "      <td>-0.187189</td>\n",
       "      <td>-0.182683</td>\n",
       "    </tr>\n",
       "    <tr>\n",
       "      <th>at</th>\n",
       "      <td>0.424595</td>\n",
       "      <td>-0.096800</td>\n",
       "      <td>-0.217176</td>\n",
       "      <td>-0.110618</td>\n",
       "    </tr>\n",
       "    <tr>\n",
       "      <th>...</th>\n",
       "      <td>...</td>\n",
       "      <td>...</td>\n",
       "      <td>...</td>\n",
       "      <td>...</td>\n",
       "    </tr>\n",
       "    <tr>\n",
       "      <th>because</th>\n",
       "      <td>-0.310425</td>\n",
       "      <td>0.014288</td>\n",
       "      <td>-0.042654</td>\n",
       "      <td>0.338791</td>\n",
       "    </tr>\n",
       "    <tr>\n",
       "      <th>even</th>\n",
       "      <td>-0.314570</td>\n",
       "      <td>0.084691</td>\n",
       "      <td>0.044806</td>\n",
       "      <td>0.185074</td>\n",
       "    </tr>\n",
       "    <tr>\n",
       "      <th>as</th>\n",
       "      <td>-0.423131</td>\n",
       "      <td>0.286410</td>\n",
       "      <td>0.108194</td>\n",
       "      <td>0.028527</td>\n",
       "    </tr>\n",
       "    <tr>\n",
       "      <th>has</th>\n",
       "      <td>-0.437016</td>\n",
       "      <td>0.421986</td>\n",
       "      <td>0.021305</td>\n",
       "      <td>-0.006274</td>\n",
       "    </tr>\n",
       "    <tr>\n",
       "      <th>dead</th>\n",
       "      <td>-0.437043</td>\n",
       "      <td>0.777757</td>\n",
       "      <td>-0.127880</td>\n",
       "      <td>-0.212834</td>\n",
       "    </tr>\n",
       "  </tbody>\n",
       "</table>\n",
       "<p>8437 rows × 4 columns</p>\n",
       "</div>"
      ],
      "text/plain": [
       "         Affection     Death  Environment     Music\n",
       "love      0.735769 -0.430292    -0.242356 -0.063121\n",
       "that      0.547368 -0.245017    -0.169037 -0.133315\n",
       "thou      0.435137  0.033752    -0.117813 -0.351076\n",
       "thee      0.432589 -0.062716    -0.187189 -0.182683\n",
       "at        0.424595 -0.096800    -0.217176 -0.110618\n",
       "...            ...       ...          ...       ...\n",
       "because  -0.310425  0.014288    -0.042654  0.338791\n",
       "even     -0.314570  0.084691     0.044806  0.185074\n",
       "as       -0.423131  0.286410     0.108194  0.028527\n",
       "has      -0.437016  0.421986     0.021305 -0.006274\n",
       "dead     -0.437043  0.777757    -0.127880 -0.212834\n",
       "\n",
       "[8437 rows x 4 columns]"
      ]
     },
     "execution_count": 33,
     "metadata": {},
     "output_type": "execute_result"
    }
   ],
   "source": [
    "weight.transpose().sort_values(\"Affection\", ascending=False)"
   ]
  },
  {
   "cell_type": "code",
   "execution_count": 34,
   "id": "e446fe92",
   "metadata": {
    "scrolled": true
   },
   "outputs": [
    {
     "data": {
      "text/html": [
       "<div>\n",
       "<style scoped>\n",
       "    .dataframe tbody tr th:only-of-type {\n",
       "        vertical-align: middle;\n",
       "    }\n",
       "\n",
       "    .dataframe tbody tr th {\n",
       "        vertical-align: top;\n",
       "    }\n",
       "\n",
       "    .dataframe thead th {\n",
       "        text-align: right;\n",
       "    }\n",
       "</style>\n",
       "<table border=\"1\" class=\"dataframe\">\n",
       "  <thead>\n",
       "    <tr style=\"text-align: right;\">\n",
       "      <th></th>\n",
       "      <th>Affection</th>\n",
       "      <th>Death</th>\n",
       "      <th>Environment</th>\n",
       "      <th>Music</th>\n",
       "    </tr>\n",
       "  </thead>\n",
       "  <tbody>\n",
       "    <tr>\n",
       "      <th>dead</th>\n",
       "      <td>-0.437043</td>\n",
       "      <td>0.777757</td>\n",
       "      <td>-0.127880</td>\n",
       "      <td>-0.212834</td>\n",
       "    </tr>\n",
       "    <tr>\n",
       "      <th>death</th>\n",
       "      <td>-0.087093</td>\n",
       "      <td>0.633873</td>\n",
       "      <td>-0.304908</td>\n",
       "      <td>-0.241873</td>\n",
       "    </tr>\n",
       "    <tr>\n",
       "      <th>silver</th>\n",
       "      <td>-0.037831</td>\n",
       "      <td>0.576952</td>\n",
       "      <td>-0.203375</td>\n",
       "      <td>-0.335746</td>\n",
       "    </tr>\n",
       "    <tr>\n",
       "      <th>died</th>\n",
       "      <td>-0.101038</td>\n",
       "      <td>0.522389</td>\n",
       "      <td>-0.177046</td>\n",
       "      <td>-0.244305</td>\n",
       "    </tr>\n",
       "    <tr>\n",
       "      <th>there</th>\n",
       "      <td>0.057733</td>\n",
       "      <td>0.514168</td>\n",
       "      <td>-0.165964</td>\n",
       "      <td>-0.405937</td>\n",
       "    </tr>\n",
       "    <tr>\n",
       "      <th>...</th>\n",
       "      <td>...</td>\n",
       "      <td>...</td>\n",
       "      <td>...</td>\n",
       "      <td>...</td>\n",
       "    </tr>\n",
       "    <tr>\n",
       "      <th>dream</th>\n",
       "      <td>0.222011</td>\n",
       "      <td>-0.342037</td>\n",
       "      <td>0.212980</td>\n",
       "      <td>-0.092954</td>\n",
       "    </tr>\n",
       "    <tr>\n",
       "      <th>moon</th>\n",
       "      <td>-0.105673</td>\n",
       "      <td>-0.352311</td>\n",
       "      <td>0.335276</td>\n",
       "      <td>0.122708</td>\n",
       "    </tr>\n",
       "    <tr>\n",
       "      <th>then</th>\n",
       "      <td>0.199887</td>\n",
       "      <td>-0.384943</td>\n",
       "      <td>-0.152529</td>\n",
       "      <td>0.337585</td>\n",
       "    </tr>\n",
       "    <tr>\n",
       "      <th>little</th>\n",
       "      <td>0.145445</td>\n",
       "      <td>-0.403244</td>\n",
       "      <td>0.013542</td>\n",
       "      <td>0.244257</td>\n",
       "    </tr>\n",
       "    <tr>\n",
       "      <th>love</th>\n",
       "      <td>0.735769</td>\n",
       "      <td>-0.430292</td>\n",
       "      <td>-0.242356</td>\n",
       "      <td>-0.063121</td>\n",
       "    </tr>\n",
       "  </tbody>\n",
       "</table>\n",
       "<p>8437 rows × 4 columns</p>\n",
       "</div>"
      ],
      "text/plain": [
       "        Affection     Death  Environment     Music\n",
       "dead    -0.437043  0.777757    -0.127880 -0.212834\n",
       "death   -0.087093  0.633873    -0.304908 -0.241873\n",
       "silver  -0.037831  0.576952    -0.203375 -0.335746\n",
       "died    -0.101038  0.522389    -0.177046 -0.244305\n",
       "there    0.057733  0.514168    -0.165964 -0.405937\n",
       "...           ...       ...          ...       ...\n",
       "dream    0.222011 -0.342037     0.212980 -0.092954\n",
       "moon    -0.105673 -0.352311     0.335276  0.122708\n",
       "then     0.199887 -0.384943    -0.152529  0.337585\n",
       "little   0.145445 -0.403244     0.013542  0.244257\n",
       "love     0.735769 -0.430292    -0.242356 -0.063121\n",
       "\n",
       "[8437 rows x 4 columns]"
      ]
     },
     "execution_count": 34,
     "metadata": {},
     "output_type": "execute_result"
    }
   ],
   "source": [
    "weight.transpose().sort_values(\"Death\", ascending=False)"
   ]
  },
  {
   "cell_type": "code",
   "execution_count": 35,
   "id": "8e81dc56",
   "metadata": {},
   "outputs": [
    {
     "data": {
      "text/html": [
       "<div>\n",
       "<style scoped>\n",
       "    .dataframe tbody tr th:only-of-type {\n",
       "        vertical-align: middle;\n",
       "    }\n",
       "\n",
       "    .dataframe tbody tr th {\n",
       "        vertical-align: top;\n",
       "    }\n",
       "\n",
       "    .dataframe thead th {\n",
       "        text-align: right;\n",
       "    }\n",
       "</style>\n",
       "<table border=\"1\" class=\"dataframe\">\n",
       "  <thead>\n",
       "    <tr style=\"text-align: right;\">\n",
       "      <th></th>\n",
       "      <th>Affection</th>\n",
       "      <th>Death</th>\n",
       "      <th>Environment</th>\n",
       "      <th>Music</th>\n",
       "    </tr>\n",
       "  </thead>\n",
       "  <tbody>\n",
       "    <tr>\n",
       "      <th>trees</th>\n",
       "      <td>-0.265992</td>\n",
       "      <td>0.054392</td>\n",
       "      <td>0.564092</td>\n",
       "      <td>-0.352492</td>\n",
       "    </tr>\n",
       "    <tr>\n",
       "      <th>sun</th>\n",
       "      <td>-0.064689</td>\n",
       "      <td>-0.192233</td>\n",
       "      <td>0.553996</td>\n",
       "      <td>-0.297074</td>\n",
       "    </tr>\n",
       "    <tr>\n",
       "      <th>grass</th>\n",
       "      <td>-0.280988</td>\n",
       "      <td>-0.176204</td>\n",
       "      <td>0.500644</td>\n",
       "      <td>-0.043452</td>\n",
       "    </tr>\n",
       "    <tr>\n",
       "      <th>sky</th>\n",
       "      <td>-0.298276</td>\n",
       "      <td>-0.254365</td>\n",
       "      <td>0.471902</td>\n",
       "      <td>0.080739</td>\n",
       "    </tr>\n",
       "    <tr>\n",
       "      <th>feeds</th>\n",
       "      <td>-0.072031</td>\n",
       "      <td>-0.166331</td>\n",
       "      <td>0.447295</td>\n",
       "      <td>-0.208932</td>\n",
       "    </tr>\n",
       "    <tr>\n",
       "      <th>...</th>\n",
       "      <td>...</td>\n",
       "      <td>...</td>\n",
       "      <td>...</td>\n",
       "      <td>...</td>\n",
       "    </tr>\n",
       "    <tr>\n",
       "      <th>their</th>\n",
       "      <td>-0.094509</td>\n",
       "      <td>0.117021</td>\n",
       "      <td>-0.401558</td>\n",
       "      <td>0.379046</td>\n",
       "    </tr>\n",
       "    <tr>\n",
       "      <th>its</th>\n",
       "      <td>0.297102</td>\n",
       "      <td>0.086288</td>\n",
       "      <td>-0.406781</td>\n",
       "      <td>0.023391</td>\n",
       "    </tr>\n",
       "    <tr>\n",
       "      <th>for</th>\n",
       "      <td>-0.208473</td>\n",
       "      <td>0.505092</td>\n",
       "      <td>-0.408818</td>\n",
       "      <td>0.112200</td>\n",
       "    </tr>\n",
       "    <tr>\n",
       "      <th>who</th>\n",
       "      <td>0.278180</td>\n",
       "      <td>-0.039075</td>\n",
       "      <td>-0.490899</td>\n",
       "      <td>0.251794</td>\n",
       "    </tr>\n",
       "    <tr>\n",
       "      <th>body</th>\n",
       "      <td>-0.046469</td>\n",
       "      <td>0.451970</td>\n",
       "      <td>-0.566419</td>\n",
       "      <td>0.160918</td>\n",
       "    </tr>\n",
       "  </tbody>\n",
       "</table>\n",
       "<p>8437 rows × 4 columns</p>\n",
       "</div>"
      ],
      "text/plain": [
       "       Affection     Death  Environment     Music\n",
       "trees  -0.265992  0.054392     0.564092 -0.352492\n",
       "sun    -0.064689 -0.192233     0.553996 -0.297074\n",
       "grass  -0.280988 -0.176204     0.500644 -0.043452\n",
       "sky    -0.298276 -0.254365     0.471902  0.080739\n",
       "feeds  -0.072031 -0.166331     0.447295 -0.208932\n",
       "...          ...       ...          ...       ...\n",
       "their  -0.094509  0.117021    -0.401558  0.379046\n",
       "its     0.297102  0.086288    -0.406781  0.023391\n",
       "for    -0.208473  0.505092    -0.408818  0.112200\n",
       "who     0.278180 -0.039075    -0.490899  0.251794\n",
       "body   -0.046469  0.451970    -0.566419  0.160918\n",
       "\n",
       "[8437 rows x 4 columns]"
      ]
     },
     "execution_count": 35,
     "metadata": {},
     "output_type": "execute_result"
    }
   ],
   "source": [
    "weight.transpose().sort_values(\"Environment\", ascending=False)"
   ]
  },
  {
   "cell_type": "code",
   "execution_count": 36,
   "id": "be773d86",
   "metadata": {},
   "outputs": [
    {
     "data": {
      "text/plain": [
       "Affection      0.735769\n",
       "Death         -0.430292\n",
       "Environment   -0.242356\n",
       "Music         -0.063121\n",
       "Name: love, dtype: float64"
      ]
     },
     "execution_count": 36,
     "metadata": {},
     "output_type": "execute_result"
    }
   ],
   "source": [
    "weight.transpose().loc[\"love\"]"
   ]
  },
  {
   "cell_type": "markdown",
   "id": "8ebe91c5",
   "metadata": {},
   "source": [
    "<h3>Bias of Class"
   ]
  },
  {
   "cell_type": "code",
   "execution_count": 37,
   "id": "33c8b5a8",
   "metadata": {},
   "outputs": [
    {
     "data": {
      "text/html": [
       "<div>\n",
       "<style scoped>\n",
       "    .dataframe tbody tr th:only-of-type {\n",
       "        vertical-align: middle;\n",
       "    }\n",
       "\n",
       "    .dataframe tbody tr th {\n",
       "        vertical-align: top;\n",
       "    }\n",
       "\n",
       "    .dataframe thead th {\n",
       "        text-align: right;\n",
       "    }\n",
       "</style>\n",
       "<table border=\"1\" class=\"dataframe\">\n",
       "  <thead>\n",
       "    <tr style=\"text-align: right;\">\n",
       "      <th></th>\n",
       "      <th>0</th>\n",
       "    </tr>\n",
       "  </thead>\n",
       "  <tbody>\n",
       "    <tr>\n",
       "      <th>Affection</th>\n",
       "      <td>-1.828164</td>\n",
       "    </tr>\n",
       "    <tr>\n",
       "      <th>Death</th>\n",
       "      <td>-0.037358</td>\n",
       "    </tr>\n",
       "    <tr>\n",
       "      <th>Environment</th>\n",
       "      <td>0.930659</td>\n",
       "    </tr>\n",
       "    <tr>\n",
       "      <th>Music</th>\n",
       "      <td>0.934863</td>\n",
       "    </tr>\n",
       "  </tbody>\n",
       "</table>\n",
       "</div>"
      ],
      "text/plain": [
       "                    0\n",
       "Affection   -1.828164\n",
       "Death       -0.037358\n",
       "Environment  0.930659\n",
       "Music        0.934863"
      ]
     },
     "execution_count": 37,
     "metadata": {},
     "output_type": "execute_result"
    }
   ],
   "source": [
    "bias_cl = pd.DataFrame(lr.intercept_, index=lr.classes_)\n",
    "bias_cl"
   ]
  },
  {
   "cell_type": "markdown",
   "id": "c569fa4d",
   "metadata": {},
   "source": [
    "# Using Dict vectorizer"
   ]
  },
  {
   "cell_type": "code",
   "execution_count": 38,
   "id": "18619194",
   "metadata": {},
   "outputs": [],
   "source": [
    "# feature engineering\n",
    "def tokenizer_text(text):\n",
    "    return {x:1 for x in nltk.word_tokenize(text)}\n",
    "\n",
    "def feature_text_length(text):\n",
    "    feature_dict = {}\n",
    "    feature_dict[\"text length\"] = len(text)\n",
    "    for token in nltk.word_tokenize(text):\n",
    "        if token not in feature_dict:\n",
    "            feature_dict[token] = 0\n",
    "            feature_dict[token] += 1\n",
    "    return feature_dict"
   ]
  },
  {
   "cell_type": "code",
   "execution_count": 39,
   "id": "b94c68a2",
   "metadata": {},
   "outputs": [],
   "source": [
    "vectorizer_2 = DictVectorizer(sparse=True)\n",
    "df_train_dict = df_train[\"Poem\"].apply(feature_text_length)"
   ]
  },
  {
   "cell_type": "code",
   "execution_count": 40,
   "id": "8827721b",
   "metadata": {},
   "outputs": [
    {
     "data": {
      "text/plain": [
       "<837x9765 sparse matrix of type '<class 'numpy.float64'>'\n",
       "\twith 36254 stored elements in Compressed Sparse Row format>"
      ]
     },
     "execution_count": 40,
     "metadata": {},
     "output_type": "execute_result"
    }
   ],
   "source": [
    "feature_vector = vectorizer_2.fit_transform(df_train_dict)\n",
    "feature_vector"
   ]
  },
  {
   "cell_type": "code",
   "execution_count": 41,
   "id": "a43fe05e",
   "metadata": {},
   "outputs": [],
   "source": [
    "X_train_2, X_test_2, y_train_2, y_test_2 = train_test_split(feature_vector, df_train[\"Genre\"], random_state=0, test_size=0.2)"
   ]
  },
  {
   "cell_type": "code",
   "execution_count": 42,
   "id": "e3725254",
   "metadata": {},
   "outputs": [],
   "source": [
    "X_tr_2, X_val_2, y_tr_2, y_val_2 = train_test_split(X_train_2, y_train_2, random_state=0, test_size=0.2)"
   ]
  },
  {
   "cell_type": "code",
   "execution_count": 46,
   "id": "bc92c1d8",
   "metadata": {},
   "outputs": [],
   "source": [
    "lr_dict = LogisticRegression(max_iter=1000)"
   ]
  },
  {
   "cell_type": "code",
   "execution_count": 47,
   "id": "8885a5ea",
   "metadata": {},
   "outputs": [
    {
     "data": {
      "text/html": [
       "<style>#sk-container-id-3 {color: black;}#sk-container-id-3 pre{padding: 0;}#sk-container-id-3 div.sk-toggleable {background-color: white;}#sk-container-id-3 label.sk-toggleable__label {cursor: pointer;display: block;width: 100%;margin-bottom: 0;padding: 0.3em;box-sizing: border-box;text-align: center;}#sk-container-id-3 label.sk-toggleable__label-arrow:before {content: \"▸\";float: left;margin-right: 0.25em;color: #696969;}#sk-container-id-3 label.sk-toggleable__label-arrow:hover:before {color: black;}#sk-container-id-3 div.sk-estimator:hover label.sk-toggleable__label-arrow:before {color: black;}#sk-container-id-3 div.sk-toggleable__content {max-height: 0;max-width: 0;overflow: hidden;text-align: left;background-color: #f0f8ff;}#sk-container-id-3 div.sk-toggleable__content pre {margin: 0.2em;color: black;border-radius: 0.25em;background-color: #f0f8ff;}#sk-container-id-3 input.sk-toggleable__control:checked~div.sk-toggleable__content {max-height: 200px;max-width: 100%;overflow: auto;}#sk-container-id-3 input.sk-toggleable__control:checked~label.sk-toggleable__label-arrow:before {content: \"▾\";}#sk-container-id-3 div.sk-estimator input.sk-toggleable__control:checked~label.sk-toggleable__label {background-color: #d4ebff;}#sk-container-id-3 div.sk-label input.sk-toggleable__control:checked~label.sk-toggleable__label {background-color: #d4ebff;}#sk-container-id-3 input.sk-hidden--visually {border: 0;clip: rect(1px 1px 1px 1px);clip: rect(1px, 1px, 1px, 1px);height: 1px;margin: -1px;overflow: hidden;padding: 0;position: absolute;width: 1px;}#sk-container-id-3 div.sk-estimator {font-family: monospace;background-color: #f0f8ff;border: 1px dotted black;border-radius: 0.25em;box-sizing: border-box;margin-bottom: 0.5em;}#sk-container-id-3 div.sk-estimator:hover {background-color: #d4ebff;}#sk-container-id-3 div.sk-parallel-item::after {content: \"\";width: 100%;border-bottom: 1px solid gray;flex-grow: 1;}#sk-container-id-3 div.sk-label:hover label.sk-toggleable__label {background-color: #d4ebff;}#sk-container-id-3 div.sk-serial::before {content: \"\";position: absolute;border-left: 1px solid gray;box-sizing: border-box;top: 0;bottom: 0;left: 50%;z-index: 0;}#sk-container-id-3 div.sk-serial {display: flex;flex-direction: column;align-items: center;background-color: white;padding-right: 0.2em;padding-left: 0.2em;position: relative;}#sk-container-id-3 div.sk-item {position: relative;z-index: 1;}#sk-container-id-3 div.sk-parallel {display: flex;align-items: stretch;justify-content: center;background-color: white;position: relative;}#sk-container-id-3 div.sk-item::before, #sk-container-id-3 div.sk-parallel-item::before {content: \"\";position: absolute;border-left: 1px solid gray;box-sizing: border-box;top: 0;bottom: 0;left: 50%;z-index: -1;}#sk-container-id-3 div.sk-parallel-item {display: flex;flex-direction: column;z-index: 1;position: relative;background-color: white;}#sk-container-id-3 div.sk-parallel-item:first-child::after {align-self: flex-end;width: 50%;}#sk-container-id-3 div.sk-parallel-item:last-child::after {align-self: flex-start;width: 50%;}#sk-container-id-3 div.sk-parallel-item:only-child::after {width: 0;}#sk-container-id-3 div.sk-dashed-wrapped {border: 1px dashed gray;margin: 0 0.4em 0.5em 0.4em;box-sizing: border-box;padding-bottom: 0.4em;background-color: white;}#sk-container-id-3 div.sk-label label {font-family: monospace;font-weight: bold;display: inline-block;line-height: 1.2em;}#sk-container-id-3 div.sk-label-container {text-align: center;}#sk-container-id-3 div.sk-container {/* jupyter's `normalize.less` sets `[hidden] { display: none; }` but bootstrap.min.css set `[hidden] { display: none !important; }` so we also need the `!important` here to be able to override the default hidden behavior on the sphinx rendered scikit-learn.org. See: https://github.com/scikit-learn/scikit-learn/issues/21755 */display: inline-block !important;position: relative;}#sk-container-id-3 div.sk-text-repr-fallback {display: none;}</style><div id=\"sk-container-id-3\" class=\"sk-top-container\"><div class=\"sk-text-repr-fallback\"><pre>LogisticRegression(max_iter=1000)</pre><b>In a Jupyter environment, please rerun this cell to show the HTML representation or trust the notebook. <br />On GitHub, the HTML representation is unable to render, please try loading this page with nbviewer.org.</b></div><div class=\"sk-container\" hidden><div class=\"sk-item\"><div class=\"sk-estimator sk-toggleable\"><input class=\"sk-toggleable__control sk-hidden--visually\" id=\"sk-estimator-id-3\" type=\"checkbox\" checked><label for=\"sk-estimator-id-3\" class=\"sk-toggleable__label sk-toggleable__label-arrow\">LogisticRegression</label><div class=\"sk-toggleable__content\"><pre>LogisticRegression(max_iter=1000)</pre></div></div></div></div></div>"
      ],
      "text/plain": [
       "LogisticRegression(max_iter=1000)"
      ]
     },
     "execution_count": 47,
     "metadata": {},
     "output_type": "execute_result"
    }
   ],
   "source": [
    "lr_dict.fit(X_tr_2, y_tr_2)"
   ]
  },
  {
   "cell_type": "code",
   "execution_count": 49,
   "id": "1f759cf8",
   "metadata": {},
   "outputs": [],
   "source": [
    "model_predicted_2 = lr_dict.predict(X_val_2)"
   ]
  },
  {
   "cell_type": "code",
   "execution_count": 50,
   "id": "828c07ea",
   "metadata": {},
   "outputs": [
    {
     "name": "stdout",
     "output_type": "stream",
     "text": [
      "              precision    recall  f1-score   support\n",
      "\n",
      "   Affection       0.55      0.29      0.37        21\n",
      "       Death       0.47      0.41      0.44        34\n",
      " Environment       0.44      0.47      0.46        40\n",
      "       Music       0.52      0.67      0.58        39\n",
      "\n",
      "    accuracy                           0.49       134\n",
      "   macro avg       0.49      0.46      0.46       134\n",
      "weighted avg       0.49      0.49      0.48       134\n",
      "\n"
     ]
    }
   ],
   "source": [
    "print(classification_report(y_val_2, model_predicted_2))"
   ]
  },
  {
   "cell_type": "code",
   "execution_count": 51,
   "id": "48779f41",
   "metadata": {},
   "outputs": [
    {
     "data": {
      "text/html": [
       "<div>\n",
       "<style scoped>\n",
       "    .dataframe tbody tr th:only-of-type {\n",
       "        vertical-align: middle;\n",
       "    }\n",
       "\n",
       "    .dataframe tbody tr th {\n",
       "        vertical-align: top;\n",
       "    }\n",
       "\n",
       "    .dataframe thead th {\n",
       "        text-align: right;\n",
       "    }\n",
       "</style>\n",
       "<table border=\"1\" class=\"dataframe\">\n",
       "  <thead>\n",
       "    <tr style=\"text-align: right;\">\n",
       "      <th></th>\n",
       "      <th>!</th>\n",
       "      <th>#</th>\n",
       "      <th>%</th>\n",
       "      <th>&amp;</th>\n",
       "      <th>'</th>\n",
       "      <th>''</th>\n",
       "      <th>'T</th>\n",
       "      <th>'What</th>\n",
       "      <th>'apothecary</th>\n",
       "      <th>'d</th>\n",
       "      <th>...</th>\n",
       "      <th>—then</th>\n",
       "      <th>—they</th>\n",
       "      <th>—those</th>\n",
       "      <th>—water</th>\n",
       "      <th>—with</th>\n",
       "      <th>‘</th>\n",
       "      <th>’</th>\n",
       "      <th>“</th>\n",
       "      <th>”</th>\n",
       "      <th>…</th>\n",
       "    </tr>\n",
       "  </thead>\n",
       "  <tbody>\n",
       "    <tr>\n",
       "      <th>Affection</th>\n",
       "      <td>0.178139</td>\n",
       "      <td>0.0</td>\n",
       "      <td>-0.011992</td>\n",
       "      <td>0.116309</td>\n",
       "      <td>-0.106499</td>\n",
       "      <td>-0.095625</td>\n",
       "      <td>-0.009259</td>\n",
       "      <td>-0.021885</td>\n",
       "      <td>-0.013274</td>\n",
       "      <td>-0.022006</td>\n",
       "      <td>...</td>\n",
       "      <td>0.142078</td>\n",
       "      <td>0.0</td>\n",
       "      <td>0.051743</td>\n",
       "      <td>0.0</td>\n",
       "      <td>-0.007866</td>\n",
       "      <td>0.039648</td>\n",
       "      <td>-0.327699</td>\n",
       "      <td>-0.059097</td>\n",
       "      <td>-0.060639</td>\n",
       "      <td>0.0</td>\n",
       "    </tr>\n",
       "    <tr>\n",
       "      <th>Death</th>\n",
       "      <td>-0.146599</td>\n",
       "      <td>0.0</td>\n",
       "      <td>-0.033805</td>\n",
       "      <td>-0.056638</td>\n",
       "      <td>0.001157</td>\n",
       "      <td>0.078755</td>\n",
       "      <td>0.053795</td>\n",
       "      <td>0.052742</td>\n",
       "      <td>-0.029112</td>\n",
       "      <td>0.293854</td>\n",
       "      <td>...</td>\n",
       "      <td>-0.056091</td>\n",
       "      <td>0.0</td>\n",
       "      <td>-0.039372</td>\n",
       "      <td>0.0</td>\n",
       "      <td>0.061201</td>\n",
       "      <td>0.010951</td>\n",
       "      <td>-0.128150</td>\n",
       "      <td>-0.281212</td>\n",
       "      <td>-0.293385</td>\n",
       "      <td>0.0</td>\n",
       "    </tr>\n",
       "    <tr>\n",
       "      <th>Environment</th>\n",
       "      <td>0.564251</td>\n",
       "      <td>0.0</td>\n",
       "      <td>-0.007894</td>\n",
       "      <td>-0.273701</td>\n",
       "      <td>0.067554</td>\n",
       "      <td>0.153711</td>\n",
       "      <td>-0.029848</td>\n",
       "      <td>-0.006046</td>\n",
       "      <td>-0.040222</td>\n",
       "      <td>-0.033915</td>\n",
       "      <td>...</td>\n",
       "      <td>-0.050927</td>\n",
       "      <td>0.0</td>\n",
       "      <td>-0.009861</td>\n",
       "      <td>0.0</td>\n",
       "      <td>-0.038016</td>\n",
       "      <td>0.004443</td>\n",
       "      <td>0.043121</td>\n",
       "      <td>0.287072</td>\n",
       "      <td>0.306196</td>\n",
       "      <td>0.0</td>\n",
       "    </tr>\n",
       "    <tr>\n",
       "      <th>Music</th>\n",
       "      <td>-0.595791</td>\n",
       "      <td>0.0</td>\n",
       "      <td>0.053691</td>\n",
       "      <td>0.214030</td>\n",
       "      <td>0.037789</td>\n",
       "      <td>-0.136840</td>\n",
       "      <td>-0.014688</td>\n",
       "      <td>-0.024811</td>\n",
       "      <td>0.082608</td>\n",
       "      <td>-0.237933</td>\n",
       "      <td>...</td>\n",
       "      <td>-0.035060</td>\n",
       "      <td>0.0</td>\n",
       "      <td>-0.002511</td>\n",
       "      <td>0.0</td>\n",
       "      <td>-0.015319</td>\n",
       "      <td>-0.055043</td>\n",
       "      <td>0.412728</td>\n",
       "      <td>0.053237</td>\n",
       "      <td>0.047828</td>\n",
       "      <td>0.0</td>\n",
       "    </tr>\n",
       "  </tbody>\n",
       "</table>\n",
       "<p>4 rows × 9765 columns</p>\n",
       "</div>"
      ],
      "text/plain": [
       "                    !    #         %         &         '        ''        'T  \\\n",
       "Affection    0.178139  0.0 -0.011992  0.116309 -0.106499 -0.095625 -0.009259   \n",
       "Death       -0.146599  0.0 -0.033805 -0.056638  0.001157  0.078755  0.053795   \n",
       "Environment  0.564251  0.0 -0.007894 -0.273701  0.067554  0.153711 -0.029848   \n",
       "Music       -0.595791  0.0  0.053691  0.214030  0.037789 -0.136840 -0.014688   \n",
       "\n",
       "                'What  'apothecary        'd  ...     —then  —they    —those  \\\n",
       "Affection   -0.021885    -0.013274 -0.022006  ...  0.142078    0.0  0.051743   \n",
       "Death        0.052742    -0.029112  0.293854  ... -0.056091    0.0 -0.039372   \n",
       "Environment -0.006046    -0.040222 -0.033915  ... -0.050927    0.0 -0.009861   \n",
       "Music       -0.024811     0.082608 -0.237933  ... -0.035060    0.0 -0.002511   \n",
       "\n",
       "             —water     —with         ‘         ’         “         ”    …  \n",
       "Affection       0.0 -0.007866  0.039648 -0.327699 -0.059097 -0.060639  0.0  \n",
       "Death           0.0  0.061201  0.010951 -0.128150 -0.281212 -0.293385  0.0  \n",
       "Environment     0.0 -0.038016  0.004443  0.043121  0.287072  0.306196  0.0  \n",
       "Music           0.0 -0.015319 -0.055043  0.412728  0.053237  0.047828  0.0  \n",
       "\n",
       "[4 rows x 9765 columns]"
      ]
     },
     "execution_count": 51,
     "metadata": {},
     "output_type": "execute_result"
    }
   ],
   "source": [
    "weight2 = pd.DataFrame(lr_dict.coef_, columns=vectorizer_2.get_feature_names_out(), index=lr_dict.classes_)\n",
    "weight2"
   ]
  },
  {
   "cell_type": "code",
   "execution_count": 52,
   "id": "1bb8f2f4",
   "metadata": {},
   "outputs": [
    {
     "data": {
      "text/html": [
       "<div>\n",
       "<style scoped>\n",
       "    .dataframe tbody tr th:only-of-type {\n",
       "        vertical-align: middle;\n",
       "    }\n",
       "\n",
       "    .dataframe tbody tr th {\n",
       "        vertical-align: top;\n",
       "    }\n",
       "\n",
       "    .dataframe thead th {\n",
       "        text-align: right;\n",
       "    }\n",
       "</style>\n",
       "<table border=\"1\" class=\"dataframe\">\n",
       "  <thead>\n",
       "    <tr style=\"text-align: right;\">\n",
       "      <th></th>\n",
       "      <th>Affection</th>\n",
       "      <th>Death</th>\n",
       "      <th>Environment</th>\n",
       "      <th>Music</th>\n",
       "    </tr>\n",
       "  </thead>\n",
       "  <tbody>\n",
       "    <tr>\n",
       "      <th>love</th>\n",
       "      <td>0.779683</td>\n",
       "      <td>-0.453735</td>\n",
       "      <td>-0.245880</td>\n",
       "      <td>-0.080069</td>\n",
       "    </tr>\n",
       "    <tr>\n",
       "      <th>And</th>\n",
       "      <td>0.487916</td>\n",
       "      <td>-0.036177</td>\n",
       "      <td>-0.138305</td>\n",
       "      <td>-0.313435</td>\n",
       "    </tr>\n",
       "    <tr>\n",
       "      <th>When</th>\n",
       "      <td>0.483631</td>\n",
       "      <td>-0.000701</td>\n",
       "      <td>-0.318208</td>\n",
       "      <td>-0.164722</td>\n",
       "    </tr>\n",
       "    <tr>\n",
       "      <th>thee</th>\n",
       "      <td>0.481505</td>\n",
       "      <td>-0.136593</td>\n",
       "      <td>-0.199086</td>\n",
       "      <td>-0.145827</td>\n",
       "    </tr>\n",
       "    <tr>\n",
       "      <th>me</th>\n",
       "      <td>0.469901</td>\n",
       "      <td>-0.115558</td>\n",
       "      <td>-0.229990</td>\n",
       "      <td>-0.124354</td>\n",
       "    </tr>\n",
       "    <tr>\n",
       "      <th>...</th>\n",
       "      <td>...</td>\n",
       "      <td>...</td>\n",
       "      <td>...</td>\n",
       "      <td>...</td>\n",
       "    </tr>\n",
       "    <tr>\n",
       "      <th>sky</th>\n",
       "      <td>-0.341524</td>\n",
       "      <td>-0.255965</td>\n",
       "      <td>0.414692</td>\n",
       "      <td>0.182797</td>\n",
       "    </tr>\n",
       "    <tr>\n",
       "      <th>some</th>\n",
       "      <td>-0.354652</td>\n",
       "      <td>0.210970</td>\n",
       "      <td>-0.034190</td>\n",
       "      <td>0.177872</td>\n",
       "    </tr>\n",
       "    <tr>\n",
       "      <th>has</th>\n",
       "      <td>-0.393015</td>\n",
       "      <td>0.388009</td>\n",
       "      <td>0.020654</td>\n",
       "      <td>-0.015648</td>\n",
       "    </tr>\n",
       "    <tr>\n",
       "      <th>dead</th>\n",
       "      <td>-0.461508</td>\n",
       "      <td>0.721345</td>\n",
       "      <td>-0.136707</td>\n",
       "      <td>-0.123130</td>\n",
       "    </tr>\n",
       "    <tr>\n",
       "      <th>as</th>\n",
       "      <td>-0.548265</td>\n",
       "      <td>0.204825</td>\n",
       "      <td>0.224498</td>\n",
       "      <td>0.118941</td>\n",
       "    </tr>\n",
       "  </tbody>\n",
       "</table>\n",
       "<p>9765 rows × 4 columns</p>\n",
       "</div>"
      ],
      "text/plain": [
       "      Affection     Death  Environment     Music\n",
       "love   0.779683 -0.453735    -0.245880 -0.080069\n",
       "And    0.487916 -0.036177    -0.138305 -0.313435\n",
       "When   0.483631 -0.000701    -0.318208 -0.164722\n",
       "thee   0.481505 -0.136593    -0.199086 -0.145827\n",
       "me     0.469901 -0.115558    -0.229990 -0.124354\n",
       "...         ...       ...          ...       ...\n",
       "sky   -0.341524 -0.255965     0.414692  0.182797\n",
       "some  -0.354652  0.210970    -0.034190  0.177872\n",
       "has   -0.393015  0.388009     0.020654 -0.015648\n",
       "dead  -0.461508  0.721345    -0.136707 -0.123130\n",
       "as    -0.548265  0.204825     0.224498  0.118941\n",
       "\n",
       "[9765 rows x 4 columns]"
      ]
     },
     "execution_count": 52,
     "metadata": {},
     "output_type": "execute_result"
    }
   ],
   "source": [
    "weight2.transpose().sort_values(\"Affection\", ascending=False)"
   ]
  },
  {
   "cell_type": "code",
   "execution_count": 54,
   "id": "9ebacdff",
   "metadata": {
    "scrolled": true
   },
   "outputs": [
    {
     "data": {
      "text/html": [
       "<div>\n",
       "<style scoped>\n",
       "    .dataframe tbody tr th:only-of-type {\n",
       "        vertical-align: middle;\n",
       "    }\n",
       "\n",
       "    .dataframe tbody tr th {\n",
       "        vertical-align: top;\n",
       "    }\n",
       "\n",
       "    .dataframe thead th {\n",
       "        text-align: right;\n",
       "    }\n",
       "</style>\n",
       "<table border=\"1\" class=\"dataframe\">\n",
       "  <thead>\n",
       "    <tr style=\"text-align: right;\">\n",
       "      <th></th>\n",
       "      <th>0</th>\n",
       "    </tr>\n",
       "  </thead>\n",
       "  <tbody>\n",
       "    <tr>\n",
       "      <th>Affection</th>\n",
       "      <td>-1.209077</td>\n",
       "    </tr>\n",
       "    <tr>\n",
       "      <th>Death</th>\n",
       "      <td>0.014343</td>\n",
       "    </tr>\n",
       "    <tr>\n",
       "      <th>Environment</th>\n",
       "      <td>0.471515</td>\n",
       "    </tr>\n",
       "    <tr>\n",
       "      <th>Music</th>\n",
       "      <td>0.723218</td>\n",
       "    </tr>\n",
       "  </tbody>\n",
       "</table>\n",
       "</div>"
      ],
      "text/plain": [
       "                    0\n",
       "Affection   -1.209077\n",
       "Death        0.014343\n",
       "Environment  0.471515\n",
       "Music        0.723218"
      ]
     },
     "execution_count": 54,
     "metadata": {},
     "output_type": "execute_result"
    }
   ],
   "source": [
    "bias_dict_2 = pd.DataFrame(lr_dict.intercept_, index=lr_dict.classes_)\n",
    "bias_dict_2"
   ]
  },
  {
   "cell_type": "code",
   "execution_count": 56,
   "id": "0aaa8585",
   "metadata": {},
   "outputs": [
    {
     "name": "stdout",
     "output_type": "stream",
     "text": [
      "              precision    recall  f1-score   support\n",
      "\n",
      "   Affection       0.55      0.29      0.37        21\n",
      "       Death       0.47      0.41      0.44        34\n",
      " Environment       0.44      0.47      0.46        40\n",
      "       Music       0.52      0.67      0.58        39\n",
      "\n",
      "    accuracy                           0.49       134\n",
      "   macro avg       0.49      0.46      0.46       134\n",
      "weighted avg       0.49      0.49      0.48       134\n",
      "\n"
     ]
    }
   ],
   "source": [
    "print(classification_report(y_val_2, model_predicted_2))"
   ]
  },
  {
   "cell_type": "code",
   "execution_count": 55,
   "id": "a8c19c4c",
   "metadata": {},
   "outputs": [
    {
     "name": "stdout",
     "output_type": "stream",
     "text": [
      "              precision    recall  f1-score   support\n",
      "\n",
      "   Affection       0.42      0.38      0.40        21\n",
      "       Death       0.39      0.32      0.35        34\n",
      " Environment       0.50      0.53      0.51        40\n",
      "       Music       0.42      0.49      0.45        39\n",
      "\n",
      "    accuracy                           0.44       134\n",
      "   macro avg       0.43      0.43      0.43       134\n",
      "weighted avg       0.44      0.44      0.44       134\n",
      "\n"
     ]
    }
   ],
   "source": [
    "print(classification_report(y_val, model_predicted))"
   ]
  },
  {
   "cell_type": "markdown",
   "id": "65f8eb99",
   "metadata": {},
   "source": [
    "I select f1-score to validate model f1-score in model2 slightly higher than model1 so i use Dict vectorizer instead of CountVectorizer"
   ]
  },
  {
   "cell_type": "code",
   "execution_count": 60,
   "id": "10c3caf6",
   "metadata": {},
   "outputs": [],
   "source": [
    "predicted = lr_dict.predict(X_test_2)"
   ]
  },
  {
   "cell_type": "code",
   "execution_count": 61,
   "id": "2a393efc",
   "metadata": {},
   "outputs": [
    {
     "name": "stdout",
     "output_type": "stream",
     "text": [
      "              precision    recall  f1-score   support\n",
      "\n",
      "   Affection       0.18      0.09      0.12        33\n",
      "       Death       0.28      0.18      0.22        51\n",
      " Environment       0.42      0.51      0.46        39\n",
      "       Music       0.42      0.67      0.52        45\n",
      "\n",
      "    accuracy                           0.37       168\n",
      "   macro avg       0.32      0.36      0.33       168\n",
      "weighted avg       0.33      0.37      0.33       168\n",
      "\n"
     ]
    }
   ],
   "source": [
    "print(classification_report(y_test_2, predicted))"
   ]
  },
  {
   "cell_type": "code",
   "execution_count": 62,
   "id": "7e73557d",
   "metadata": {},
   "outputs": [
    {
     "name": "stdout",
     "output_type": "stream",
     "text": [
      "              precision    recall  f1-score   support\n",
      "\n",
      "   Affection       0.35      0.24      0.29        33\n",
      "       Death       0.26      0.20      0.22        51\n",
      " Environment       0.31      0.38      0.34        39\n",
      "       Music       0.34      0.44      0.39        45\n",
      "\n",
      "    accuracy                           0.32       168\n",
      "   macro avg       0.32      0.32      0.31       168\n",
      "weighted avg       0.31      0.32      0.31       168\n",
      "\n"
     ]
    }
   ],
   "source": [
    "# check with model1\n",
    "predicted2 = lr.predict(X_test)\n",
    "print(classification_report(y_test, predicted2))"
   ]
  },
  {
   "cell_type": "code",
   "execution_count": 63,
   "id": "58e95803",
   "metadata": {},
   "outputs": [],
   "source": [
    "df_test_dict = df_test[\"Poem\"].apply(feature_text_length)\n",
    "df_test_vector = vectorizer_2.transform(df_test_dict)"
   ]
  },
  {
   "cell_type": "code",
   "execution_count": 64,
   "id": "157f45ed",
   "metadata": {},
   "outputs": [],
   "source": [
    "predicted_test = lr_dict.predict(df_test_vector)"
   ]
  },
  {
   "cell_type": "code",
   "execution_count": 66,
   "id": "bee82118",
   "metadata": {},
   "outputs": [
    {
     "data": {
      "text/html": [
       "<div>\n",
       "<style scoped>\n",
       "    .dataframe tbody tr th:only-of-type {\n",
       "        vertical-align: middle;\n",
       "    }\n",
       "\n",
       "    .dataframe tbody tr th {\n",
       "        vertical-align: top;\n",
       "    }\n",
       "\n",
       "    .dataframe thead th {\n",
       "        text-align: right;\n",
       "    }\n",
       "</style>\n",
       "<table border=\"1\" class=\"dataframe\">\n",
       "  <thead>\n",
       "    <tr style=\"text-align: right;\">\n",
       "      <th></th>\n",
       "      <th>Predict</th>\n",
       "      <th>Real</th>\n",
       "    </tr>\n",
       "  </thead>\n",
       "  <tbody>\n",
       "    <tr>\n",
       "      <th>0</th>\n",
       "      <td>Death</td>\n",
       "      <td>Music</td>\n",
       "    </tr>\n",
       "    <tr>\n",
       "      <th>1</th>\n",
       "      <td>Music</td>\n",
       "      <td>Music</td>\n",
       "    </tr>\n",
       "    <tr>\n",
       "      <th>2</th>\n",
       "      <td>Music</td>\n",
       "      <td>Music</td>\n",
       "    </tr>\n",
       "    <tr>\n",
       "      <th>3</th>\n",
       "      <td>Music</td>\n",
       "      <td>Music</td>\n",
       "    </tr>\n",
       "    <tr>\n",
       "      <th>4</th>\n",
       "      <td>Environment</td>\n",
       "      <td>Music</td>\n",
       "    </tr>\n",
       "    <tr>\n",
       "      <th>...</th>\n",
       "      <td>...</td>\n",
       "      <td>...</td>\n",
       "    </tr>\n",
       "    <tr>\n",
       "      <th>145</th>\n",
       "      <td>Music</td>\n",
       "      <td>Environment</td>\n",
       "    </tr>\n",
       "    <tr>\n",
       "      <th>146</th>\n",
       "      <td>Environment</td>\n",
       "      <td>Environment</td>\n",
       "    </tr>\n",
       "    <tr>\n",
       "      <th>147</th>\n",
       "      <td>Environment</td>\n",
       "      <td>Environment</td>\n",
       "    </tr>\n",
       "    <tr>\n",
       "      <th>148</th>\n",
       "      <td>Environment</td>\n",
       "      <td>Environment</td>\n",
       "    </tr>\n",
       "    <tr>\n",
       "      <th>149</th>\n",
       "      <td>Environment</td>\n",
       "      <td>Environment</td>\n",
       "    </tr>\n",
       "  </tbody>\n",
       "</table>\n",
       "<p>150 rows × 2 columns</p>\n",
       "</div>"
      ],
      "text/plain": [
       "         Predict         Real\n",
       "0          Death        Music\n",
       "1          Music        Music\n",
       "2          Music        Music\n",
       "3          Music        Music\n",
       "4    Environment        Music\n",
       "..           ...          ...\n",
       "145        Music  Environment\n",
       "146  Environment  Environment\n",
       "147  Environment  Environment\n",
       "148  Environment  Environment\n",
       "149  Environment  Environment\n",
       "\n",
       "[150 rows x 2 columns]"
      ]
     },
     "execution_count": 66,
     "metadata": {},
     "output_type": "execute_result"
    }
   ],
   "source": [
    "dif = pd.DataFrame({\"Predict\": predicted_test, \"Real\": df_test[\"Genre\"]})\n",
    "dif"
   ]
  },
  {
   "cell_type": "code",
   "execution_count": null,
   "id": "2babc5d2",
   "metadata": {},
   "outputs": [],
   "source": []
  }
 ],
 "metadata": {
  "kernelspec": {
   "display_name": "Python 3 (ipykernel)",
   "language": "python",
   "name": "python3"
  },
  "language_info": {
   "codemirror_mode": {
    "name": "ipython",
    "version": 3
   },
   "file_extension": ".py",
   "mimetype": "text/x-python",
   "name": "python",
   "nbconvert_exporter": "python",
   "pygments_lexer": "ipython3",
   "version": "3.11.5"
  }
 },
 "nbformat": 4,
 "nbformat_minor": 5
}
